{
  "nbformat": 4,
  "nbformat_minor": 0,
  "metadata": {
    "colab": {
      "name": "ftxtrade.ipynb",
      "provenance": [],
      "collapsed_sections": [],
      "include_colab_link": true
    },
    "kernelspec": {
      "name": "python3",
      "display_name": "Python 3"
    },
    "language_info": {
      "name": "python"
    }
  },
  "cells": [
    {
      "cell_type": "markdown",
      "metadata": {
        "id": "view-in-github",
        "colab_type": "text"
      },
      "source": [
        "<a href=\"https://colab.research.google.com/github/vensilver/hexo/blob/master/newftx.ipynb\" target=\"_parent\"><img src=\"https://colab.research.google.com/assets/colab-badge.svg\" alt=\"Open In Colab\"/></a>"
      ]
    },
    {
      "cell_type": "code",
      "metadata": {
        "id": "51PONbuNknCO"
      },
      "source": [
        "\n",
        "%pip install ciso8601\n",
        "%pip install ccxt\n",
        "%pip install ccxt simplejson\n"
      ],
      "execution_count": null,
      "outputs": []
    },
    {
      "cell_type": "code",
      "metadata": {
        "id": "VcMwUXnnkxdV"
      },
      "source": [
        "import ftx\n",
        "client = ftx.FtxClient()"
      ],
      "execution_count": null,
      "outputs": []
    },
    {
      "cell_type": "code",
      "metadata": {
        "colab": {
          "base_uri": "https://localhost:8080/"
        },
        "id": "vJKgJwHXmCAb",
        "outputId": "dbf4d311-c4f5-4fa6-fd38-fc2534417de0"
      },
      "source": [
        "import ccxt\n",
        "\n",
        "def read_setting():\n",
        "        with open('/content/drive/MyDrive/botsetting/setting.json') as json_file:\n",
        "            return json.load(json_file)\n",
        "             \n",
        "config = read_setting()\n",
        "LOGFILE= config[\"LOGFILE\"]\n",
        "\n",
        "exchange  = ccxt.ftx({\n",
        "    'verbose': False,\n",
        "    'apiKey': config[\"apiKey\"],\n",
        "    'secret': config[\"secret\"],\n",
        "    'enableRateLimit': True,\n",
        "    'headers': {\n",
        "        'FTX-SUBACCOUNT': config[\"sub_account\"],\n",
        "  },\n",
        "\n",
        "        \n",
        "\n",
        "})\n",
        "\n",
        "balance = exchange.fetch_balance()\n",
        "\n",
        "print(balance['total']['USD'])"
      ],
      "execution_count": 18,
      "outputs": [
        {
          "output_type": "stream",
          "text": [
            "3.70823052\n"
          ],
          "name": "stdout"
        }
      ]
    },
    {
      "cell_type": "code",
      "metadata": {
        "id": "EMytI-_vmjBS"
      },
      "source": [
        "# coding=utf-8\n",
        "%pip install ccxt\n",
        "%pip install ccxt simplejson\n",
        "\n",
        "import ccxt\n",
        "import datetime\n",
        "import time\n",
        "import os\n",
        "import sys\n",
        "import simplejson as json\n",
        "# import random\n",
        "# import threading\n",
        "\n",
        "COLOR_RESET = \"\\033[0;0m\"\n",
        "COLOR_GREEN = \"\\033[0;32m\"\n",
        "COLOR_RED = \"\\033[1;31m\"\n",
        "COLOR_BLUE = \"\\033[1;34m\"\n",
        "COLOR_WHITE = \"\\033[1;37m\"\n",
        "LOGFILE=\"\"\n",
        "\n",
        "class Oreder_Info:\n",
        "    def __init__(self):\n",
        "        self.done=False\n",
        "        self.side=None\n",
        "        self.id=0\n",
        "\n",
        "class Grid_trader:\n",
        "    order_list=[]\n",
        "\n",
        "    def __init__(self,exchange,symbol,grid_level=0,lower_price=0.0,upper_price=0.0,amount=0,postonly=\"true\"):\n",
        "        self.symbol = symbol\n",
        "        self.exchange=exchange\n",
        "        self.order_min_inteval= self.exchange.markets[self.symbol][\"info\"][\"priceIncrement\"]\n",
        "        self.grid_level=grid_level\n",
        "        self.upper_price=upper_price\n",
        "        self.lower_price=lower_price\n",
        "        self.amount=amount\n",
        "        self.postonly=postonly\n",
        "        self.inteval_profit=(self.upper_price-self.lower_price) / self.grid_level\n",
        "        pass\n",
        "\n",
        "    def place_order_init(self):\n",
        "        #start cal level and place grid oreder\n",
        "        for i in range(self.grid_level + 1): #  n+1 lines make n grid\n",
        "            price = self.lower_price + i * self.inteval_profit\n",
        "            bid_price, ask_price = self.send_request(\"get_bid_ask_price\")\n",
        "            order = Oreder_Info()\n",
        "            if  price < ask_price : \n",
        "                order.id = self.send_request(\"place_order\",\"buy\",price)\n",
        "                log(\"place buy order id = \" + str(order.id) + \" in \"+ str(price))\n",
        "            else:\n",
        "                order.id = self.send_request(\"place_order\",\"sell\",price)\n",
        "                log(\"place sell order id = \" + str(order.id) + \" in \"+ str(price))\n",
        "            self.order_list.append(order)\n",
        "    \n",
        "    def loop_job(self):\n",
        "        for order in self.order_list:\n",
        "            order_info = self.send_request(\"get_order\",order.id)\n",
        "            side = order_info[\"side\"]\n",
        "            if order_info[\"status\"] == \"closed\":\n",
        "                new_order_price = 0.0\n",
        "                old_order_id = order_info[\"id\"]\n",
        "                bid_price, ask_price = self.send_request(\"get_bid_ask_price\")\n",
        "                msg = side + \" order id : \" + str(old_order_id)+\" : \" + str(order_info[\"price\"]) + \" completed , put \"\n",
        "                if side == \"buy\" :\n",
        "                    new_order_price = float(order_info[\"price\"]) + self.inteval_profit \n",
        "                    order.id = self.send_request(\"place_order\",\"sell\",new_order_price)\n",
        "                    msg = msg + \"sell\"\n",
        "                    log(msg)\n",
        "                else:\n",
        "                    new_order_price = float(order_info[\"price\"]) - self.inteval_profit\n",
        "                    order.id = self.send_request(\"place_order\",\"buy\",new_order_price)\n",
        "                    msg = msg + \"buy\"\n",
        "                msg = msg + \" order id : \" + str(order.id) + \" : \" + str(new_order_price)\n",
        "                log(msg)\n",
        "\n",
        "    def send_request(self,task,input1=None,input2=None):\n",
        "        tries = 3\n",
        "        for i in range(tries):\n",
        "            try:\n",
        "                if task == \"get_bid_ask_price\":\n",
        "                    ticker =self.exchange.fetch_ticker(self.symbol)\n",
        "                    return ticker[\"bid\"],  ticker[\"ask\"]\n",
        "\n",
        "                elif task == \"get_order\":\n",
        "                    return self.exchange.fetchOrder(input1)[\"info\"]\n",
        "\n",
        "                elif task == \"place_order\":\n",
        "                    #send_request(self,task,input1=side,input2=price)\n",
        "                    side = input1\n",
        "                    price = input2\n",
        "                    orderid=0\n",
        "                    if side ==\"buy\":\n",
        "                        orderid = self.exchange.create_limit_buy_order(self.symbol,self.amount,price )[\"info\"][\"id\"]\n",
        "                    else:\n",
        "                        orderid = self.exchange.create_limit_sell_order(self.symbol,self.amount,price )[\"info\"][\"id\"]\n",
        "                    return orderid\n",
        "\n",
        "                else:\n",
        "                    return None\n",
        "            except ccxt.NetworkError as e:\n",
        "                if i < tries - 1: # i is zero indexed\n",
        "                    log(\"NetworkError , try last \"+str(i) +\"chances\" + str(e))\n",
        "                    time.sleep(0.5)\n",
        "                    continue\n",
        "                else:\n",
        "                    log(str(e))\n",
        "                    raise\n",
        "            except ccxt.ExchangeError as e:\n",
        "                if i < tries - 1: # i is zero indexed\n",
        "                    log(str(e))\n",
        "                    time.sleep(0.5)\n",
        "                    continue\n",
        "                else:\n",
        "                    log(str(e))\n",
        "                    raise\n",
        "            break\n",
        "\n",
        "def log(msg):\n",
        "    timestamp = datetime.datetime.now().strftime(\"%b %d %Y %H:%M:%S \")\n",
        "    s = \"[%s] %s:%s %s\" % (timestamp, COLOR_WHITE, COLOR_RESET, msg)\n",
        "    print(s)\n",
        "    try:\n",
        "        f = open(LOGFILE, \"a\")\n",
        "        f.write(s + \"\\n\")\n",
        "        f.close()\n",
        "    except:\n",
        "        pass\n",
        "\n",
        "def read_setting():\n",
        "        with open('/content/drive/MyDrive/botsetting/setting.json') as json_file:\n",
        "            return json.load(json_file)\n",
        "             \n",
        "config = read_setting()\n",
        "LOGFILE= config[\"LOGFILE\"]\n",
        "\n",
        "exchange  = ccxt.ftx({\n",
        "    'verbose': False,\n",
        "    'apiKey': config[\"apiKey\"],\n",
        "    'secret': config[\"secret\"],\n",
        "    'enableRateLimit': True,\n",
        "    'headers': {\n",
        "        'FTX-SUBACCOUNT': config[\"sub_account\"],\n",
        "    },\n",
        "})\n",
        "\n",
        "exchange_markets = exchange.load_markets()\n",
        "\n",
        "main_job = Grid_trader(exchange,config[\"symbol\"],config[\"grid_level\"],config[\"lower_price\"],config[\"upper_price\"],config[\"amount\"],config[\"postonly\"])\n",
        "main_job.place_order_init()\n",
        "while True:\n",
        "    print(\"Loop in :\",datetime.datetime.now())\n",
        "    main_job.loop_job()\n",
        "    time.sleep(1)\n",
        "\n",
        "\n",
        "\n"
      ],
      "execution_count": null,
      "outputs": []
    },
    {
      "cell_type": "code",
      "metadata": {
        "id": "D49iGYE9ldTe",
        "outputId": "3ed2b815-f398-4f91-b7ba-e6bded0da10b",
        "colab": {
          "base_uri": "https://localhost:8080/",
          "height": 367
        }
      },
      "source": [
        "\n",
        "import ftx\n",
        "\n",
        "c =  ftx(\n",
        "    api_key='hvRdfmujWfmr6hSXcac9JzIg-LngTdzN1UQp5F2F',\n",
        "    api_secret='v2RkFwuiOdsn3Gy3a4d9W6HHhMYhdMSoElQCUHDA',\n",
        ")\n",
        "\n",
        "balance = c.get_balances()\n",
        "print(balance)\n",
        "btc_total = next((b['total'] for b in balance if b['coin'] == 'BTC'))\n",
        "print(btc_total)"
      ],
      "execution_count": 17,
      "outputs": [
        {
          "output_type": "error",
          "ename": "ModuleNotFoundError",
          "evalue": "ignored",
          "traceback": [
            "\u001b[0;31m---------------------------------------------------------------------------\u001b[0m",
            "\u001b[0;31mModuleNotFoundError\u001b[0m                       Traceback (most recent call last)",
            "\u001b[0;32m<ipython-input-17-e5ad6f1ca5ab>\u001b[0m in \u001b[0;36m<module>\u001b[0;34m()\u001b[0m\n\u001b[1;32m      1\u001b[0m \u001b[0;34m\u001b[0m\u001b[0m\n\u001b[0;32m----> 2\u001b[0;31m \u001b[0;32mimport\u001b[0m \u001b[0mftx\u001b[0m\u001b[0;34m\u001b[0m\u001b[0;34m\u001b[0m\u001b[0m\n\u001b[0m\u001b[1;32m      3\u001b[0m \u001b[0;34m\u001b[0m\u001b[0m\n\u001b[1;32m      4\u001b[0m c =  ftx(\n\u001b[1;32m      5\u001b[0m     \u001b[0mapi_key\u001b[0m\u001b[0;34m=\u001b[0m\u001b[0;34m'hvRdfmujWfmr6hSXcac9JzIg-LngTdzN1UQp5F2F'\u001b[0m\u001b[0;34m,\u001b[0m\u001b[0;34m\u001b[0m\u001b[0;34m\u001b[0m\u001b[0m\n",
            "\u001b[0;31mModuleNotFoundError\u001b[0m: No module named 'ftx'",
            "",
            "\u001b[0;31m---------------------------------------------------------------------------\u001b[0;32m\nNOTE: If your import is failing due to a missing package, you can\nmanually install dependencies using either !pip or !apt.\n\nTo view examples of installing some common dependencies, click the\n\"Open Examples\" button below.\n\u001b[0;31m---------------------------------------------------------------------------\u001b[0m\n"
          ]
        }
      ]
    },
    {
      "cell_type": "code",
      "metadata": {
        "id": "mo7MPL3rwGy6",
        "outputId": "831d6e52-39d6-4b59-9ca4-73111bbc5a62",
        "colab": {
          "base_uri": "https://localhost:8080/"
        }
      },
      "source": [
        "from google.colab import drive\n",
        "drive.mount('/content/drive')"
      ],
      "execution_count": 15,
      "outputs": [
        {
          "output_type": "stream",
          "text": [
            "Drive already mounted at /content/drive; to attempt to forcibly remount, call drive.mount(\"/content/drive\", force_remount=True).\n"
          ],
          "name": "stdout"
        }
      ]
    }
  ]
}